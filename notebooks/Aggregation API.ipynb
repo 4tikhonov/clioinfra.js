{
 "metadata": {
  "name": "",
  "signature": "sha256:01ab4cd87f886874ed0ca2e8a1c1dd9841eefc4c9d136ff78d0c5ebaa3caf997"
 },
 "nbformat": 3,
 "nbformat_minor": 0,
 "worksheets": [
  {
   "cells": [
    {
     "cell_type": "code",
     "collapsed": false,
     "input": [
      "%matplotlib inline\n",
      "import urllib2 \n",
      "import simplejson\n",
      "import json\n",
      "import sys\n",
      "import pandas as pd\n",
      "import random\n",
      "import vincent\n",
      "from vincent import Axis, AxisProperties, PropertySet, ValueRef\n",
      "from pandas.io.json import json_normalize\n",
      "import re\n",
      "\n",
      "# Global settings\n",
      "root = \"http://dv.sandbox.socialhistoryservices.org\"\n",
      "apiurl = root + \"/api/search?q=title:%28%22Armed%20Conflicts%20International%22|%22Armed%20Conflicts%20Internal%22%29&key=73883b6f-ca99-41b9-953a-b9f8be42723d&type=dataset\"\n",
      "\n",
      "def loadjson(apiurl):\n",
      "    jsondataurl = apiurl\n",
      "    \n",
      "    req = urllib2.Request(jsondataurl)\n",
      "    opener = urllib2.build_opener()\n",
      "    f = opener.open(req)\n",
      "    dataframe = simplejson.load(f)\n",
      "    return dataframe\n",
      "\n",
      "def getindicators(url):\n",
      "    ids = re.findall(r'i\\[\\d+\\]\\=(\\d+)', url, re.M|re.I)\n",
      "    return ids\n",
      "\n",
      "def load_dataverse(apiurl):\n",
      "    dataframe = loadjson(apiurl)\n",
      "\n",
      "    info = []\n",
      "    for item in dataframe['data']['items']:\n",
      "        datasets = {}\n",
      "        datasets['url'] = item['url']\n",
      "        datasets['pid'] = item['global_id']\n",
      "        datasets['name'] = item['name']\n",
      "        datasets['topic'] = item['description']\n",
      "        info.append(datasets)\n",
      "    \n",
      "    return info\n",
      "\n",
      "data = load_dataverse(apiurl)\n",
      "topicurl = \"http://clearance.sandbox.socialhistoryservices.org/collabs/static/data/dataframe100_0.json\"\n",
      "topics = loadjson(topicurl)\n",
      "\n",
      "qurl = \"http://clearance.sandbox.socialhistoryservices.org/api/dataverse?i[83]=11002&i[84]=10&i[85]=1199&i[86]=16002\"\n",
      "IDS = getindicators(qurl)\n",
      "\n",
      "totalq = ''\n",
      "for item in topics:\n",
      "    thisid = str(item['ID'])\n",
      "\n",
      "    if thisid in IDS:\n",
      "        name = item['Name']\n",
      "        topic = item['parent name']\n",
      "        #name = \"title:%22World%20Strikes%20Dataset%22%20OR%20\"\n",
      "        name = re.sub(\"\\s+\" , \"\\%20\", name)\n",
      "        totalq = totalq + 'title:%22' + name + '%22OR%20'\n",
      "        print name\n",
      "        print topic\n",
      "        print item\n",
      "        \n",
      "if totalq:\n",
      "    totalq = totalq + '\"tttttt\"'\n",
      "    apiurl = root + \"/api/search?q=\" + totalq + \"&key=73883b6f-ca99-41b9-953a-b9f8be42723d&type=dataset\"\n",
      "    data = load_dataverse(apiurl)\n",
      "    for item in data:\n",
      "        print item"
     ],
     "language": "python",
     "metadata": {},
     "outputs": [
      {
       "output_type": "stream",
       "stream": "stdout",
       "text": [
        "Biological\\%20Standards\\%20of\\%20Living\n",
        "\n",
        "{'Unnamed: 4': u'', 'Unnamed: 5': u'', 'Unnamed: 6': u'', 'Unnamed: 7': u'', 'Name': 'Biological Standards of Living', 'parent name': u'', 'Unnamed: 8': u'', 'Unnamed: 9': u'', 'ID': 10, 'Unnamed: 16': u'', 'Unnamed: 17': u'', 'Unnamed: 14': 'e.g.', 'Unnamed: 15': u'', 'Unnamed: 12': u'', 'Unnamed: 13': u'', 'parent ID': u'', 'Unnamed: 11': u'', 'Unnamed: 10': u''}\n",
        "Infant\\%20Mortality\n",
        "Demography\n",
        "{'Unnamed: 4': u'', 'Unnamed: 5': u'', 'Unnamed: 6': u'', 'Unnamed: 7': u'', 'Name': 'Infant Mortality', 'parent name': 'Demography', 'Unnamed: 8': u'', 'Unnamed: 9': u'', 'ID': 11002, 'Unnamed: 16': u'', 'Unnamed: 17': u'', 'Unnamed: 14': u'', 'Unnamed: 15': u'', 'Unnamed: 12': u'', 'Unnamed: 13': u'', 'parent ID': 11.0, 'Unnamed: 11': u'', 'Unnamed: 10': u''}\n",
        "Armed\\%20Conflicts\\%20(International)\n",
        "Institutions\n",
        "{'Unnamed: 4': u'', 'Unnamed: 5': u'', 'Unnamed: 6': u'', 'Unnamed: 7': u'', 'Name': 'Armed Conflicts (International)', 'parent name': 'Institutions', 'Unnamed: 8': u'', 'Unnamed: 9': u'', 'ID': 16002, 'Unnamed: 16': u'', 'Unnamed: 17': u'', 'Unnamed: 14': u'', 'Unnamed: 15': u'', 'Unnamed: 12': u'', 'Unnamed: 13': u'', 'parent ID': 16.0, 'Unnamed: 11': u'', 'Unnamed: 10': u''}\n",
        "{'url': 'http://hdl.handle.net/10622/1K1YBL', 'topic': 'Institutions', 'pid': 'hdl:10622/1K1YBL', 'name': 'Armed Conflicts (Internal)'}"
       ]
      },
      {
       "output_type": "stream",
       "stream": "stdout",
       "text": [
        "\n",
        "{'url': 'http://hdl.handle.net/10622/73BBBI', 'topic': 'Institution', 'pid': 'hdl:10622/73BBBI', 'name': 'Armed Conflicts (International)'}\n"
       ]
      }
     ],
     "prompt_number": 56
    }
   ],
   "metadata": {}
  }
 ]
}