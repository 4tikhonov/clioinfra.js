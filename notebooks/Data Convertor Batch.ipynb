{
 "metadata": {
  "name": "",
  "signature": "sha256:6ddb006a7bff87effc52ae29f166a6e678273e69927f33224af1228dd007a37a"
 },
 "nbformat": 3,
 "nbformat_minor": 0,
 "worksheets": [
  {
   "cells": [
    {
     "cell_type": "code",
     "collapsed": false,
     "input": [
      "#!/usr/bin/python\n",
      "\n",
      "import ConfigParser\n",
      "import getopt\n",
      "import sys\n",
      "import os\n",
      "import pandas as pd\n",
      "from datetime import datetime\n",
      "sys.path.append(os.path.abspath(os.path.join(os.path.dirname(\"__file__\"), '../modules')))\n",
      "from config import configuration, dataverse2indicators, load_dataverse, findpid, load_metadata\n",
      "from storage import data2store, readdata, readdataset, readdatasets, datasetadd, formdatasetquery\n",
      "from datasets import loaddataset, loaddataset_fromurl, loadgeocoder, treemap, selectint, buildgeocoder, load_geocodes, datasetfilter, dataset_analyzer\n",
      "#from data2excel import create_excel_dataset\n",
      "from sys import argv\n",
      "from historical_data import save_historical_dataset\n",
      "from random import randint\n",
      "import openpyxl\n",
      "from openpyxl.cell import get_column_letter\n",
      "import numpy as np\n",
      "from excel2data import excelvalidator, parsehandle, dataextractor, downloadfile, load_api_data, getfiles\n",
      "from config import configuration, dataverse2indicators, load_dataverse, findpid, load_metadata\n",
      "from storage import removedata, data2store, readdata, readdataset, readdatasets, datasetadd, formdatasetquery\n",
      "from datasets import loaddataset, loaddataset_fromurl, loadgeocoder, treemap, selectint, buildgeocoder, load_geocodes, datasetfilter, content2dataframe, dataset_analyzer, dataset2panel, request_geocoder\n",
      "import codecs\n",
      "from StringIO import StringIO\n",
      "from data2excel import create_excel_dataset\n",
      "from os import listdir\n",
      "from os.path import isfile, join\n",
      "import re\n",
      "\n",
      "def loaddataset_fromfile(config, filename):\n",
      "    f = codecs.open(filename, \"r\", \"utf-8\")\n",
      "    content = f.read()\n",
      "    csvio = StringIO(content)\n",
      "    dataframe = pd.read_csv(csvio, sep='\\t', dtype='unicode')\n",
      "    return dataframe\n",
      "\n",
      "fullpath = \"/home/tikhonov/completedatasets14Sept2015/GDPperCapita.xlsx\"\n",
      "allfiles = [\"/home/tikhonov/completedatasets14Sept2015/GDPperCapita.xlsx\", \"/home/tikhonov/completedatasets14Sept2015/TotalCO2Emissions.xlsx\"]\n",
      "outdir = \"/home/tikhonov/data/historical\"\n",
      "allfiles = [\"/home/tikhonov/completedatasets14Sept2015/TotalCO2Emissions.xlsx\"]\n",
      "path = \"/home/tikhonov/tmp\"\n",
      "mypath = \"/home/tikhonov/completedatasets14Sept2015/\"\n",
      "outdir = \"/home/tikhonov/data/historical\"\n",
      "onlyfiles = [f for f in listdir(mypath) if isfile(join(mypath, f))]\n",
      "fileID = \"test\"\n",
      "\n",
      "config = configuration()\n",
      "config['remote'] = 'yes'\n",
      "(geocoder, geolist, oecd2webmapper, modern, historical) = request_geocoder(config, 'geocoder')\n",
      "for ffile in onlyfiles:\n",
      "    pid = 'clio'\n",
      "    fullpath = mypath + '/' + ffile\n",
      "    isexcel = re.match('\\S+\\/(\\S+)\\.xls', fullpath)\n",
      "    if isexcel:\n",
      "        newfile = isexcel.group(1) + \"-historical.xlsx\"\n",
      "        fulloutfile = outdir + \"/\" + newfile\n",
      "        print fulloutfile\n",
      "        pid = newfile\n",
      "        handle = pid\n",
      "        print handle\n",
      "        (jsonfile, csvfile, tmptitle, tmpunits) = dataextractor(fullpath, path, pid, fileID)  \n",
      "        (dataset, title, units) = compiledataset(csvfile)\n",
      "        switch = 'historical'\n",
      "        (maindata, metadata) = geocoding(switch, dataset, modern, historical)        \n",
      "        (moderndata, historicaldata) = loadgeocoder(config, maindata, '')\n",
      "        maindata = conversion(maindata, moderndata, historicaldata)\n",
      "        print metadata[handle]['title']\n",
      "        outfile = store_dataset(fulloutfile, maindata, metadata)\n",
      "        print outfile"
     ],
     "language": "python",
     "metadata": {},
     "outputs": [
      {
       "output_type": "stream",
       "stream": "stdout",
       "text": [
        "/home/tikhonov/data/historical/TotalCO2Emissions-historical.xlsx\n",
        "TotalCO2Emissions-historical.xlsx\n",
        "/home/tikhonov/tmpdataframeTotalCO2Emissions-historical.xlsx_0.json"
       ]
      },
      {
       "output_type": "stream",
       "stream": "stdout",
       "text": [
        "\n",
        "/home/tikhonov/tmpdataframeTotalCO2Emissions-historical.xlsx_0.csv\n",
        "Total CO2 Emissions"
       ]
      },
      {
       "output_type": "stream",
       "stream": "stdout",
       "text": [
        "\n",
        "Time: 19 seconds"
       ]
      },
      {
       "output_type": "stream",
       "stream": "stdout",
       "text": [
        "\n",
        "/home/tikhonov/data/historical/TotalCO2Emissions-historical.xlsx\n",
        "/home/tikhonov/data/historical/CLIO-INFRA_Biodiversity-historical.xlsx\n",
        "CLIO-INFRA_Biodiversity-historical.xlsx\n",
        "/home/tikhonov/tmpdataframeCLIO-INFRA_Biodiversity-historical.xlsx_0.json"
       ]
      },
      {
       "output_type": "stream",
       "stream": "stdout",
       "text": [
        "\n",
        "/home/tikhonov/tmpdataframeCLIO-INFRA_Biodiversity-historical.xlsx_0.csv\n",
        "Biodiversity - MSA index"
       ]
      },
      {
       "output_type": "stream",
       "stream": "stdout",
       "text": [
        "\n",
        "Time: 23 seconds"
       ]
      },
      {
       "output_type": "stream",
       "stream": "stdout",
       "text": [
        "\n",
        "/home/tikhonov/data/historical/CLIO-INFRA_Biodiversity-historical.xlsx\n",
        "/home/tikhonov/data/historical/TotalPasture-historical.xlsx\n",
        "TotalPasture-historical.xlsx\n",
        "/home/tikhonov/tmpdataframeTotalPasture-historical.xlsx_0.json"
       ]
      },
      {
       "output_type": "stream",
       "stream": "stdout",
       "text": [
        "\n",
        "/home/tikhonov/tmpdataframeTotalPasture-historical.xlsx_0.csv\n",
        "Total Pasture "
       ]
      },
      {
       "output_type": "stream",
       "stream": "stdout",
       "text": [
        "\n",
        "Time: 22 seconds"
       ]
      },
      {
       "output_type": "stream",
       "stream": "stdout",
       "text": [
        "\n",
        "/home/tikhonov/data/historical/TotalPasture-historical.xlsx\n",
        "/home/tikhonov/data/historical/CLIO-INFRA_polity-historical.xlsx\n",
        "CLIO-INFRA_polity-historical.xlsx\n",
        "/home/tikhonov/tmpdataframeCLIO-INFRA_polity-historical.xlsx_0.json"
       ]
      },
      {
       "output_type": "stream",
       "stream": "stdout",
       "text": [
        "\n",
        "/home/tikhonov/tmpdataframeCLIO-INFRA_polity-historical.xlsx_0.csv\n",
        "Polity2 Index"
       ]
      },
      {
       "output_type": "stream",
       "stream": "stdout",
       "text": [
        "\n",
        "Time: 19 seconds"
       ]
      },
      {
       "output_type": "stream",
       "stream": "stdout",
       "text": [
        "\n",
        "/home/tikhonov/data/historical/CLIO-INFRA_polity-historical.xlsx\n",
        "/home/tikhonov/data/historical/CLIO-INFRA_polyarchy-historical.xlsx\n",
        "CLIO-INFRA_polyarchy-historical.xlsx\n",
        "/home/tikhonov/tmpdataframeCLIO-INFRA_polyarchy-historical.xlsx_0.json"
       ]
      },
      {
       "output_type": "stream",
       "stream": "stdout",
       "text": [
        "\n",
        "/home/tikhonov/tmpdataframeCLIO-INFRA_polyarchy-historical.xlsx_0.csv\n",
        "Polyarchy"
       ]
      },
      {
       "output_type": "stream",
       "stream": "stdout",
       "text": [
        "\n",
        "Time: 23 seconds"
       ]
      },
      {
       "output_type": "stream",
       "stream": "stdout",
       "text": [
        "\n",
        "/home/tikhonov/data/historical/CLIO-INFRA_polyarchy-historical.xlsx\n",
        "/home/tikhonov/data/historical/TotalNumberofGoats-historical.xlsx\n",
        "TotalNumberofGoats-historical.xlsx\n",
        "/home/tikhonov/tmpdataframeTotalNumberofGoats-historical.xlsx_0.json"
       ]
      },
      {
       "output_type": "stream",
       "stream": "stdout",
       "text": [
        "\n",
        "/home/tikhonov/tmpdataframeTotalNumberofGoats-historical.xlsx_0.csv\n",
        "Total Number of Goats "
       ]
      },
      {
       "output_type": "stream",
       "stream": "stdout",
       "text": [
        "\n",
        "Time: 18 seconds"
       ]
      },
      {
       "output_type": "stream",
       "stream": "stdout",
       "text": [
        "\n",
        "/home/tikhonov/data/historical/TotalNumberofGoats-historical.xlsx\n",
        "/home/tikhonov/data/historical/CLIO-INFRA_universities-historical.xlsx\n",
        "CLIO-INFRA_universities-historical.xlsx\n",
        "/home/tikhonov/tmpdataframeCLIO-INFRA_universities-historical.xlsx_0.json"
       ]
      },
      {
       "output_type": "stream",
       "stream": "stdout",
       "text": [
        "\n",
        "/home/tikhonov/tmpdataframeCLIO-INFRA_universities-historical.xlsx_0.csv\n",
        "Universities founded"
       ]
      },
      {
       "output_type": "stream",
       "stream": "stdout",
       "text": [
        "\n",
        "Time: 11 seconds"
       ]
      },
      {
       "output_type": "stream",
       "stream": "stdout",
       "text": [
        "\n",
        "/home/tikhonov/data/historical/CLIO-INFRA_universities-historical.xlsx\n",
        "/home/tikhonov/data/historical/CLIO-INFRA_Total_life_expectancy-historical.xlsx\n",
        "CLIO-INFRA_Total_life_expectancy-historical.xlsx\n",
        "/home/tikhonov/tmpdataframeCLIO-INFRA_Total_life_expectancy-historical.xlsx_0.json"
       ]
      },
      {
       "output_type": "stream",
       "stream": "stdout",
       "text": [
        "\n",
        "/home/tikhonov/tmpdataframeCLIO-INFRA_Total_life_expectancy-historical.xlsx_0.csv\n",
        "Life Expectancy at Birth (Total)"
       ]
      },
      {
       "output_type": "stream",
       "stream": "stdout",
       "text": [
        "\n",
        "Time: 20 seconds"
       ]
      },
      {
       "output_type": "stream",
       "stream": "stdout",
       "text": [
        "\n",
        "/home/tikhonov/data/historical/CLIO-INFRA_Total_life_expectancy-historical.xlsx\n",
        "/home/tikhonov/data/historical/goldstandard1-historical.xlsx\n",
        "goldstandard1-historical.xlsx\n",
        "/home/tikhonov/tmpdataframegoldstandard1-historical.xlsx_0.json"
       ]
      },
      {
       "output_type": "stream",
       "stream": "stdout",
       "text": [
        "\n",
        "/home/tikhonov/tmpdataframegoldstandard1-historical.xlsx_0.csv\n",
        "Gold standard"
       ]
      },
      {
       "output_type": "stream",
       "stream": "stdout",
       "text": [
        "\n",
        "Time: 11 seconds"
       ]
      },
      {
       "output_type": "stream",
       "stream": "stdout",
       "text": [
        "\n",
        "/home/tikhonov/data/historical/goldstandard1-historical.xlsx\n",
        "/home/tikhonov/data/historical/CroplandperCapita-historical.xlsx\n",
        "CroplandperCapita-historical.xlsx\n",
        "/home/tikhonov/tmpdataframeCroplandperCapita-historical.xlsx_0.json"
       ]
      },
      {
       "output_type": "stream",
       "stream": "stdout",
       "text": [
        "\n",
        "/home/tikhonov/tmpdataframeCroplandperCapita-historical.xlsx_0.csv\n",
        "Cropland per Capita"
       ]
      },
      {
       "output_type": "stream",
       "stream": "stdout",
       "text": [
        "\n",
        "Time: 20 seconds"
       ]
      },
      {
       "output_type": "stream",
       "stream": "stdout",
       "text": [
        "\n",
        "/home/tikhonov/data/historical/CroplandperCapita-historical.xlsx\n",
        "/home/tikhonov/data/historical/TotalNumberofPigs-historical.xlsx\n",
        "TotalNumberofPigs-historical.xlsx\n",
        "/home/tikhonov/tmpdataframeTotalNumberofPigs-historical.xlsx_0.json"
       ]
      },
      {
       "output_type": "stream",
       "stream": "stdout",
       "text": [
        "\n",
        "/home/tikhonov/tmpdataframeTotalNumberofPigs-historical.xlsx_0.csv\n",
        "Total Number of Pigs"
       ]
      },
      {
       "output_type": "stream",
       "stream": "stdout",
       "text": [
        "\n",
        "Time: 17 seconds"
       ]
      },
      {
       "output_type": "stream",
       "stream": "stdout",
       "text": [
        "\n",
        "/home/tikhonov/data/historical/TotalNumberofPigs-historical.xlsx\n",
        "/home/tikhonov/data/historical/Infantmortality-historical.xlsx\n",
        "Infantmortality-historical.xlsx\n",
        "/home/tikhonov/tmpdataframeInfantmortality-historical.xlsx_0.json"
       ]
      },
      {
       "output_type": "stream",
       "stream": "stdout",
       "text": [
        "\n",
        "/home/tikhonov/tmpdataframeInfantmortality-historical.xlsx_0.csv\n",
        "Infant mortality"
       ]
      },
      {
       "output_type": "stream",
       "stream": "stdout",
       "text": [
        "\n",
        "Time: 14 seconds"
       ]
      },
      {
       "output_type": "stream",
       "stream": "stdout",
       "text": [
        "\n",
        "/home/tikhonov/data/historical/Infantmortality-historical.xlsx\n",
        "/home/tikhonov/data/historical/CLIO-INFRA_homicides-historical.xlsx\n",
        "CLIO-INFRA_homicides-historical.xlsx\n",
        "/home/tikhonov/tmpdataframeCLIO-INFRA_homicides-historical.xlsx_0.json"
       ]
      },
      {
       "output_type": "stream",
       "stream": "stdout",
       "text": [
        "\n",
        "/home/tikhonov/tmpdataframeCLIO-INFRA_homicides-historical.xlsx_0.csv\n",
        "Homicide rates"
       ]
      },
      {
       "output_type": "stream",
       "stream": "stdout",
       "text": [
        "\n",
        "Time: 16 seconds"
       ]
      },
      {
       "output_type": "stream",
       "stream": "stdout",
       "text": [
        "\n",
        "/home/tikhonov/data/historical/CLIO-INFRA_homicides-historical.xlsx\n",
        "/home/tikhonov/data/historical/Numeracy(Total)-historical.xlsx\n",
        "Numeracy(Total)-historical.xlsx\n",
        "/home/tikhonov/tmpdataframeNumeracy(Total)-historical.xlsx_0.json"
       ]
      },
      {
       "output_type": "stream",
       "stream": "stdout",
       "text": [
        "\n",
        "/home/tikhonov/tmpdataframeNumeracy(Total)-historical.xlsx_0.csv\n",
        "Numeracy (Total)"
       ]
      }
     ],
     "prompt_number": "*"
    },
    {
     "cell_type": "code",
     "collapsed": false,
     "input": [
      "def compiledataset(csvfile):\n",
      "    handles = []\n",
      "    remote = 'on'\n",
      "\n",
      "    # Geocoder\n",
      "    config = configuration()\n",
      "    config['remote'] = 'yes'\n",
      "    dataframe = loaddataset_fromfile(config, csvfile)\n",
      "    dataset = dataframe\n",
      "    title = dataframe.columns[1]\n",
      "    units = dataframe.ix[0][1]\n",
      "    metadata = {}\n",
      "    switch = 'modern'\n",
      "    switch = 'historical'\n",
      "    #dataset = dataset.convert_objects(convert_numeric=True)\n",
      "    dataset.columns = dataset.ix[1]\n",
      "    dataset.index = dataset[config['moderncode']]\n",
      "    if '1' in dataset.columns:\n",
      "        dataset = dataset.drop('1', axis=1)\n",
      "\n",
      "    #dataset = dataset[2:]\n",
      "    (intcodes, notint) = selectint(dataset.columns)\n",
      "    #for colname in notint:\n",
      "    #    dataset = dataset.drop(colname, axis=1)\n",
      "    dataset.columns = notint + intcodes\n",
      "    return (dataset, title, units)\n",
      "\n",
      "#(dataset, title, units) = compiledataset(csvfile)\n",
      "#dataset"
     ],
     "language": "python",
     "metadata": {},
     "outputs": [],
     "prompt_number": 71
    },
    {
     "cell_type": "code",
     "collapsed": false,
     "input": [
      "def geocoding(switch, dataset, modern, historical):\n",
      "#if config:\n",
      "    switch = 'historical'\n",
      "    metadataitem = {}\n",
      "    if title:\n",
      "        metadataitem['title'] = title\n",
      "        metadataitem['units'] = units\n",
      "\n",
      "        if switch == 'modern':\n",
      "            activeindex = modern.index\n",
      "            coder = modern\n",
      "            class1 = switch\n",
      "        else:\n",
      "            activeindex = historical.index\n",
      "            coder = historical\n",
      "\n",
      "        (moderndata, historicaldata) = loadgeocoder(config, dataset, '')\n",
      "        if switch == 'modern':\n",
      "            maindata = moderndata\n",
      "        else:\n",
      "            # Do conversion to webmapper system\n",
      "            if not historicaldata:\n",
      "                maindata = moderndata\n",
      "                webmapperindex = []\n",
      "                for code in maindata.index:\n",
      "                    try:\n",
      "                        webmappercode = oecd2webmapper[int(code)]\n",
      "                    except:\n",
      "                        webmappercode = -1\n",
      "                    webmapperindex.append(webmappercode)\n",
      "                maindata.index = webmapperindex\n",
      "                maindata = maindata[maindata.index > 0]\n",
      "            else:\n",
      "                maindata = historicaldata\n",
      "\n",
      "        maindata = maindata.convert_objects(convert_numeric=True)                \n",
      "        (cfilter, notint) = selectint(maindata.columns)\n",
      "\n",
      "        codes = selectint(maindata.index)\n",
      "        geo = load_geocodes(config, switch, codes, maindata, geolist)\n",
      "        #for colname in notint:\n",
      "            #maindata = maindata.drop(colname, axis=1)\n",
      "        # Drop num if in dataframe\n",
      "        if '1' in maindata.columns:\n",
      "            maindata = maindata.drop('1', axis=1)\n",
      "        #dataframe[pid] = maindata\n",
      "        metadata[handle] = metadataitem\n",
      "    return (maindata, metadata)\n",
      "        \n",
      "def conversion(maindata, moderndata, historicaldata):\n",
      "#if config:\n",
      "    if switch == 'modern':\n",
      "        if '1' in moderndata.columns:\n",
      "            moderndata = moderndata.drop('1', axis=1)\n",
      "        maindata = moderndata\n",
      "        maindata.columns = moderndata.columns\n",
      "    else:\n",
      "        # Do conversion to webmapper system\n",
      "        if not historicaldata:\n",
      "            maindata = moderndata\n",
      "            webmapperindex = []\n",
      "            for code in maindata.index:\n",
      "                try:\n",
      "                    webmappercode = oecd2webmapper[int(code)]\n",
      "                except:\n",
      "                    webmappercode = -1\n",
      "                webmapperindex.append(webmappercode)\n",
      "            maindata.index = webmapperindex\n",
      "            #maindata.columns = moderndata.columns[1]\n",
      "            maindata = maindata[maindata.index > 0]\n",
      "        else:\n",
      "            maindata = historicaldata\n",
      "    \n",
      "    (cfilter, notint) = selectint(maindata.columns)\n",
      "    \n",
      "    codes = selectint(maindata.index)\n",
      "    geo = load_geocodes(config, switch, codes, maindata, geolist)\n",
      "    for colname in notint:\n",
      "        maindata = maindata.drop(colname, axis=1)\n",
      "    return maindata\n",
      "\n",
      "maindata"
     ],
     "language": "python",
     "metadata": {},
     "outputs": []
    },
    {
     "cell_type": "code",
     "collapsed": false,
     "input": [
      "def store_dataset(fullpath, maindata, metadata):\n",
      "    #fullpath = \"subdata_set_last.xlsx\"\n",
      "    # Use case 1\n",
      "    datafilter = {}\n",
      "    datafilter['startyear'] = '1500'\n",
      "    datafilter['endyear'] = '2016'\n",
      "    #datafilter['ctrlist'] = '528,14,18,67'\n",
      "    datafilter['ctrlist'] = '528'\n",
      "    datafilter['ctrlist'] = '1523'\n",
      "    datafilter['ctrlist'] = ''\n",
      "    if datafilter['startyear']:\n",
      "        coderyears = []\n",
      "        for i in range(int(datafilter['startyear']), int(datafilter['endyear'])):\n",
      "            coderyears.append(i)\n",
      "    (datasubset, ctrlist) = datasetfilter(maindata, datafilter)\n",
      "\n",
      "    (yearscolumns, notyears) = selectint(maindata.columns)\n",
      "    (countryinfo, notcountry) = selectint(maindata.index)\n",
      "            \n",
      "    a = datetime.now()    \n",
      "    (finalsubset, icoder, isyear, ctrfilter, nodata) = dataset_analyzer(datasubset, coder, yearscolumns)\n",
      "    if datafilter['ctrlist']:\n",
      "        tmpcoder = icoder.ix[ctrlist]\n",
      "        icoder = pd.DataFrame(tmpcoder)\n",
      "    datafile = create_excel_dataset(fullpath, icoder, metadata[handle], icoder.columns, coderyears, finalsubset, isyear, ctrfilter)\n",
      "    b = datetime.now()\n",
      "    d = b - a\n",
      "    print \"Time: \" + str(d.seconds) + \" seconds\"\n",
      "    return datafile"
     ],
     "language": "python",
     "metadata": {},
     "outputs": [],
     "prompt_number": 67
    }
   ],
   "metadata": {}
  }
 ]
}