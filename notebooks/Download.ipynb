{
 "metadata": {
  "name": "",
  "signature": "sha256:672ef4d03e5427c0219d7223038ecc4f33a36983ac19428080d06e38e6cfe341"
 },
 "nbformat": 3,
 "nbformat_minor": 0,
 "worksheets": [
  {
   "cells": [
    {
     "cell_type": "code",
     "collapsed": false,
     "input": [
      "import subprocess\n",
      "import re\n",
      "from bs4 import BeautifulSoup\n",
      "import xml.etree.ElementTree as etree\n",
      "\n",
      "def download(tmpdir, fileID, original):\n",
      "    original = re.sub('\\(|\\)', '', original)\n",
      "    url = HOSTNAME + \"/api/access/datafile/\" + str(fileID) + \"?key=\" \n",
      "    proc = subprocess.Popen(\"/usr/bin/wget https://%s%s --no-check-certificate -O %s/%s\" % (url, API_TOKEN, tmpdir, original), shell=True, stdout=subprocess.PIPE)\n",
      "    (out, err) = proc.communicate()\n",
      "        \n",
      "    return out\n",
      "\n",
      "def dataset2zip(tmpdir, arc):\n",
      "    proc = subprocess.Popen(\"cd %s;/usr/bin/zip -9 -y -r -q %s *\" % (tmpdir, arc), shell=True, stdout=subprocess.PIPE)\n",
      "    (out, err) = proc.communicate()\n",
      "\n",
      "def get_files(cmd, pid):\n",
      "    proc = subprocess.Popen(\"curl %s%s\" % (cmd, pid), shell=True, stdout=subprocess.PIPE)\n",
      "    (xml, err) = proc.communicate()\n",
      "\n",
      "    y=BeautifulSoup(xml)\n",
      "    files = y.html.body.feed.findAll(\"id\")\n",
      "    for filename in files:\n",
      "        isfile = re.search(r'file\\/(\\d+)\\/(\\S+)', str(filename.string), re.M|re.I)\n",
      "        if isfile:\n",
      "            fileID = isfile.group(1)\n",
      "            fileoriginal = isfile.group(2)\n",
      "            download(tmpdir, fileID, fileoriginal)\n",
      "            if DEBUG:\n",
      "                print filename.string\n",
      "                print fileoriginal\n",
      "    \n",
      "    dataset2zip(tmpdir, arc)\n",
      "\n",
      "    return files\n",
      "\n",
      "DEBUG = 0\n",
      "API_TOKEN=\"73883b6f-ca99-41b9-953a-b9f8be42723d\"\n",
      "HOSTNAME=\"dv.sandbox.socialhistoryservices.org\"\n",
      "cmd = \"--insecure -u \" + API_TOKEN + \": https://\" + HOSTNAME + \"/dvn/api/data-deposit/v1.1/swordv2/statement/study/\"\n",
      "tmpdir = \"/tmp/test\"\n",
      "arc = \"data.zip\"\n",
      "\n",
      "pid = \"hdl:10622/73BBBI\"\n",
      "files = get_files(cmd, pid)\n",
      "\n",
      "        \n"
     ],
     "language": "python",
     "metadata": {},
     "outputs": [],
     "prompt_number": 112
    }
   ],
   "metadata": {}
  }
 ]
}