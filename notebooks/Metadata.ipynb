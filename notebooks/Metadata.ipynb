{
 "metadata": {
  "name": "",
  "signature": "sha256:cc8f895fbbd378bcc75c51d747472a9b48a02e2bc6e4461c10854e8146bdca0e"
 },
 "nbformat": 3,
 "nbformat_minor": 0,
 "worksheets": [
  {
   "cells": [
    {
     "cell_type": "code",
     "collapsed": false,
     "input": [
      "import urllib2 \n",
      "import simplejson\n",
      "import json\n",
      "import pandas as pd\n",
      "import re\n",
      "\n",
      "def configuration():\n",
      "   config = {}\n",
      "   config['dataverseroot'] = \"http://dv.sandbox.socialhistoryservices.org\"\n",
      "   config['key'] = \"73883b6f-ca99-41b9-953a-b9f8be42723d\"\n",
      "   config['apiroot'] = \"http://clearance.sandbox.socialhistoryservices.org\"\n",
      "\n",
      "   return config\n",
      "\n",
      "def loadjson(apiurl):\n",
      "    jsondataurl = apiurl\n",
      "    \n",
      "    req = urllib2.Request(jsondataurl)\n",
      "    opener = urllib2.build_opener()\n",
      "    f = opener.open(req)\n",
      "    dataframe = simplejson.load(f)\n",
      "    return dataframe\n",
      "\n",
      "def findpid(handle):\n",
      "    ids = re.search(r'hdl\\:\\d+\\/(\\w+)', handle, re.M|re.I)\n",
      "    (pid, fileid, cliohandle) = ('', '', '')\n",
      "    if ids:\n",
      "        pid = ids.group(1)\n",
      "        files = re.search(r'hdl\\:\\d+\\/\\w+\\:(\\d+)\\:(\\d+)', handle, re.M|re.I)\n",
      "        if files:\n",
      "            fileid = files.group(1)\n",
      "            revid = files.group(2)\n",
      "            cliohandle = pid + str(fileid) + '_' + str(revid)\n",
      "    return (pid, fileid, cliohandle)\n",
      "\n",
      "def load_dataverse(apiurl):\n",
      "    dataframe = loadjson(apiurl)\n",
      "\n",
      "    info = []\n",
      "    for item in dataframe['data']['items']:\n",
      "        datasets = {}\n",
      "        datasets['url'] = item['url']\n",
      "        datasets['pid'] = item['global_id']\n",
      "        datasets['name'] = item['name']\n",
      "        datasets['topic'] = item['description']\n",
      "        datasets['citation'] = item['citation']\n",
      "        info.append(datasets)\n",
      "    \n",
      "    return info\n",
      "\n",
      "config = configuration()\n",
      "dataset = 'hdl:10622/XUH7BG:65:66'\n",
      "dataset = 'hdl:10622/4X6NCK:114:115'\n",
      "(pid, fileid, clio) = findpid(dataset)\n",
      "print pid\n",
      "print fileid\n",
      "print clio\n",
      "if pid:\n",
      "    query = 'XUH7BG'\n",
      "    apiurl = config['dataverseroot'] + \"/api/search?q=\" + query + '&key=' + config['key'] + '&type=dataset'\n",
      "    data = load_dataverse(apiurl)\n",
      "    for item in data:\n",
      "        print item"
     ],
     "language": "python",
     "metadata": {},
     "outputs": [
      {
       "output_type": "stream",
       "stream": "stdout",
       "text": [
        "4X6NCK\n",
        "114\n",
        "4X6NCK114_115\n",
        "{'url': 'http://hdl.handle.net/10622/XUH7BG', 'topic': 'A dataset with GDP and population and GDP/cap within historical boundaries at 4 different periods', 'citation': 'Bas van Leeuwen, 2015, \"GDP and population within historical boundaries\", <a href=\"http://hdl.handle.net/10622/XUH7BG\">http://hdl.handle.net/10622/XUH7BG</a>,  Root Dataverse,  V1', 'pid': 'hdl:10622/XUH7BG', 'name': 'GDP and population within historical boundaries '}"
       ]
      },
      {
       "output_type": "stream",
       "stream": "stdout",
       "text": [
        "\n"
       ]
      }
     ],
     "prompt_number": 31
    }
   ],
   "metadata": {}
  }
 ]
}