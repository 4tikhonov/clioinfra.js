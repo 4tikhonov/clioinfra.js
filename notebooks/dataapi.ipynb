{
 "metadata": {
  "name": "",
  "signature": "sha256:2b8d5235e067ed01eeae0ace3ab1b6f7d283e7975b5f4975bee0014daf229848"
 },
 "nbformat": 3,
 "nbformat_minor": 0,
 "worksheets": [
  {
   "cells": [
    {
     "cell_type": "code",
     "collapsed": false,
     "input": [
      "# Use case for NLGIS2 data analysis using data service and pandas library\n",
      "# (C) Vyacheslav Tykhonov vty@iisg.nl\n",
      "# International Institute of Social History \n",
      "# http://socialhistory.org\n",
      "\n",
      "%matplotlib inline\n",
      "import urllib2 \n",
      "import simplejson\n",
      "import json\n",
      "import sys\n",
      "import pandas as pd\n",
      "import random\n",
      "import vincent\n",
      "from vincent import Axis, AxisProperties, PropertySet, ValueRef\n",
      "from pandas.io.json import json_normalize\n",
      "\n",
      "# Global settings\n",
      "apiurl = \"http://node-128.dev.socialhistoryservices.org/api/data\"\n",
      "amscodecolumn = 'amsterdam_code'\n",
      "yearcolumn = 'year'\n",
      "\n",
      "# Default values\n",
      "varcode = \"TXVV\"\n",
      "varyear = \"1982\"\n",
      "colors = ['red', 'green', 'orange', 'brown', 'purple', 'blue', 'cyan']\n",
      "\n",
      "def load_api_data(apiurl, code, year):\n",
      "    amscode = str(code)\n",
      "    jsondataurl = apiurl + \"?code=\" + str(code) + '&year=' + year\n",
      "    \n",
      "    req = urllib2.Request(jsondataurl)\n",
      "    opener = urllib2.build_opener()\n",
      "    f = opener.open(req)\n",
      "    dataframe = simplejson.load(f)\n",
      "    return dataframe\n",
      "\n",
      "def data2frame(dataframe):\n",
      "    data = dataframe['data']\n",
      "    years = {}\n",
      "    debug = 0\n",
      "    datavalues = {}\n",
      "        \n",
      "    for item in data:\n",
      "        amscode = item[amscodecolumn]\n",
      "        year = item[yearcolumn]\n",
      "        datavalues[year] = item\n",
      "        if debug:\n",
      "            print str(amscode) + ' ' + str(year)\n",
      "            print item\n",
      "    \n",
      "    for year in datavalues:        \n",
      "        values = datavalues[year]\n",
      "        for name in values:\n",
      "            if debug:\n",
      "                print name + ' ' + str(values[name])\n",
      "    return datavalues\n",
      "    \n",
      "data = load_api_data(apiurl, varcode, varyear)\n",
      "# 'indicator': 'TK', 'code': 'TXCU', 'naam': 'ADORP', 'amsterdam_code': '10996', 'value': 89.0, 'year': 1937, 'id': 1, 'cbsnr': '1'\n",
      "# Create DataFrame object pf and load data \n",
      "yeardf, amscodedf, naamdf, valuedf = [],[],[],[]\n",
      "for amscode in data:\n",
      "    values = data[amscode]\n",
      "    yeardf.append(data[amscode]['year'])\n",
      "    naamdf.append(data[amscode]['naam'])\n",
      "    amscodedf.append(data[amscode]['amsterdam_code'])\n",
      "    valuedf.append(data[amscode]['value'])\n",
      "    \n",
      "df = pd.DataFrame([yeardf,amscodedf,naamdf,valuedf]).T\n",
      "df.columns = ['year', 'amsterdam_code', 'naam', 'value']\n",
      "    #data\n",
      "#json_normalize(data[0])\n",
      "#dataframe = json.loads(data)\n",
      "#df.read_json(data)    \n",
      "\n",
      "# Exploring dataset to see columns and data\n",
      "print df.head()\n",
      "# Copy dataframe to new variable\n",
      "newframe = df[['year', 'amsterdam_code', 'naam', 'value']]"
     ],
     "language": "python",
     "metadata": {},
     "outputs": [
      {
       "output_type": "stream",
       "stream": "stdout",
       "text": [
        "   year amsterdam_code        naam value\n",
        "0  1982          10298    OLDEHOVE   273\n",
        "1  1982          10297   HAGESTEIN   194\n",
        "2  1982          10296  NOORDELOOS   214\n",
        "3  1982          10291      HEERDE  1828\n",
        "4  1982          10290     HETEREN   955\n",
        "\n",
        "[5 rows x 4 columns]\n"
       ]
      }
     ],
     "prompt_number": 32
    },
    {
     "cell_type": "markdown",
     "metadata": {},
     "source": [
      "Now let's calculate total values for each city and show first 20 locations"
     ]
    },
    {
     "cell_type": "code",
     "collapsed": false,
     "input": [
      "newframe = df[['amsterdam_code', 'value']][:20]\n",
      "print newframe"
     ],
     "language": "python",
     "metadata": {},
     "outputs": [
      {
       "output_type": "stream",
       "stream": "stdout",
       "text": [
        "   amsterdam_code value\n",
        "0           10298   273\n",
        "1           10297   194\n",
        "2           10296   214\n",
        "3           10291  1828\n",
        "4           10290   955\n",
        "5           10292   476\n",
        "6           10453  2190\n",
        "7           10451   264\n",
        "8           10450   117\n",
        "9           10457  1163\n",
        "10          10456   392\n",
        "11          10455   358\n",
        "12          10454  1372\n",
        "13          10512  2993\n",
        "14          10104  1659\n",
        "15          10511  3233\n",
        "16          10101   839\n",
        "17          10517  8790\n",
        "18          10103  2600\n",
        "19          10515  1090\n",
        "\n",
        "[20 rows x 2 columns]\n"
       ]
      }
     ],
     "prompt_number": 27
    },
    {
     "cell_type": "markdown",
     "metadata": {},
     "source": [
      "We need some basic color maps to calculate from out data"
     ]
    },
    {
     "cell_type": "code",
     "collapsed": false,
     "input": [
      "def colormapslimits(dataframe):\n",
      "    scale = []\n",
      "    frame1 = []\n",
      "    frame2 = []\n",
      "    avg = values.median()\n",
      "    for value in dataframe:\n",
      "        if value <= avg:\n",
      "            frame1.append(value)\n",
      "        else:\n",
      "            frame2.append(value)\n",
      "    avg1 = pd.DataFrame(frame1).median()\n",
      "    avg2 = pd.DataFrame(frame2).median()\n",
      "            \n",
      "    return (values.min(), int(avg1), int(avg), int(avg2), values.max())"
     ],
     "language": "python",
     "metadata": {},
     "outputs": [],
     "prompt_number": 28
    },
    {
     "cell_type": "code",
     "collapsed": false,
     "input": [
      "values = newframe['value'][:20]\n",
      "dfnames = df['naam'][:20]\n",
      "codes = [df['amsterdam_code'][:20]]\n",
      "list_data = []\n",
      "names = []\n",
      "\n",
      "for value in values:\n",
      "    list_data.append(value)\n",
      "for name in dfnames:\n",
      "    names.append(name)\n",
      "\n",
      "# New dataframe to make chart\n",
      "thisDF = pd.DataFrame(list_data, names)\n",
      "\n",
      "colormap = colormapslimits(values)\n",
      "print names\n",
      "print list_data\n",
      "print 'Limits to build color map: ' + str(colormap)\n",
      "\n",
      "bar = vincent.Bar(thisDF)\n",
      "bar.axes[0].properties = AxisProperties (\n",
      "    labels=PropertySet(\n",
      "    angle=ValueRef(value=45),\n",
      "    align=ValueRef(value='left')\n",
      "    )\n",
      "   )\n",
      "vincent.core.initialize_notebook()\n",
      "\n",
      "bar.axis_titles(x='', y='Value')\n",
      "bar.display()"
     ],
     "language": "python",
     "metadata": {},
     "outputs": [
      {
       "output_type": "stream",
       "stream": "stdout",
       "text": [
        "['OLDEHOVE', 'HAGESTEIN', 'NOORDELOOS', 'HEERDE', 'HETEREN', 'BELFELD', 'WINSCHOTEN', 'BLESKENSGRAAF EN HOFWEGEN', 'GOUDRIAAN', 'SUSTEREN', 'POSTERHOLT', 'RIETHOVEN', 'WONSERADEEL', 'NUNSPEET', 'NUTH', 'SCHAGEN', 'GEERTRUIDENBERG', 'ALPHEN AAN DEN RIJN ZH', 'OISTERWIJK', 'SIMPELVELD']\n",
        "[273.0, 194.0, 214.0, 1828.0, 955.0, 476.0, 2190.0, 264.0, 117.0, 1163.0, 392.0, 358.0, 1372.0, 2993.0, 1659.0, 3233.0, 839.0, 8790.0, 2600.0, 1090.0]\n",
        "Limits to build color map: (117.0, 315, 1022, 2009, 8790.0)\n"
       ]
      },
      {
       "html": [
        "\n",
        "           <script>\n",
        "               \n",
        "                function vct_load_lib(url, callback){\n",
        "                      if(typeof d3 !== 'undefined' &&\n",
        "                         url === 'http://d3js.org/d3.v3.min.js'){\n",
        "                        callback()\n",
        "                      }\n",
        "                      var s = document.createElement('script');\n",
        "                      s.src = url;\n",
        "                      s.async = true;\n",
        "                      s.onreadystatechange = s.onload = callback;\n",
        "                      s.onerror = function(){\n",
        "                        console.warn(\"failed to load library \" + url);\n",
        "                        };\n",
        "                      document.getElementsByTagName(\"head\")[0].appendChild(s);\n",
        "                };\n",
        "                var vincent_event = new CustomEvent(\n",
        "                  \"vincent_libs_loaded\",\n",
        "                  {bubbles: true, cancelable: true}\n",
        "                );\n",
        "                \n",
        "               function load_all_libs(){\n",
        "                  console.log('Loading Vincent libs...')\n",
        "                  vct_load_lib('http://d3js.org/d3.v3.min.js', function(){\n",
        "                  vct_load_lib('http://d3js.org/d3.geo.projection.v0.min.js', function(){\n",
        "                  vct_load_lib('http://wrobstory.github.io/d3-cloud/d3.layout.cloud.js', function(){\n",
        "                  vct_load_lib('http://wrobstory.github.io/vega/vega.v1.3.3.js', function(){\n",
        "                  window.dispatchEvent(vincent_event);\n",
        "                  });\n",
        "                  });\n",
        "                  });\n",
        "                  });\n",
        "               };\n",
        "               if(typeof define === \"function\" && define.amd){\n",
        "                    if (window['d3'] === undefined ||\n",
        "                        window['topojson'] === undefined){\n",
        "                        require.config(\n",
        "                            {paths: {\n",
        "                              d3: 'http://d3js.org/d3.v3.min',\n",
        "                              topojson: 'http://d3js.org/topojson.v1.min'\n",
        "                              }\n",
        "                            }\n",
        "                          );\n",
        "                        require([\"d3\"], function(d3){\n",
        "                            console.log('Loading Vincent from require.js...')\n",
        "                            window.d3 = d3;\n",
        "                            require([\"topojson\"], function(topojson){\n",
        "                                window.topojson = topojson;\n",
        "                                load_all_libs();\n",
        "                            });\n",
        "                        });\n",
        "                    } else {\n",
        "                        load_all_libs();\n",
        "                    };\n",
        "               }else{\n",
        "                    console.log('Require.js not found, loading manually...')\n",
        "                    load_all_libs();\n",
        "               };\n",
        "\n",
        "           </script>"
       ],
       "metadata": {},
       "output_type": "display_data",
       "text": [
        "<IPython.core.display.HTML at 0xaf7a17cc>"
       ]
      },
      {
       "html": [
        "<div id=\"vis45f864a3667741a4a4060f04b0316c40\"></div>\n",
        "<script>\n",
        "   ( function() {\n",
        "     var _do_plot = function() {\n",
        "       if (typeof vg === 'undefined') {\n",
        "         window.addEventListener('vincent_libs_loaded', _do_plot)\n",
        "         return;\n",
        "       }\n",
        "       vg.parse.spec({\"axes\": [{\"properties\": {\"labels\": {\"align\": {\"value\": \"left\"}, \"angle\": {\"value\": 45}}}, \"scale\": \"x\", \"title\": \"\", \"type\": \"x\"}, {\"scale\": \"y\", \"title\": \"Value\", \"type\": \"y\"}], \"data\": [{\"name\": \"table\", \"values\": [{\"col\": 0, \"idx\": \"OLDEHOVE\", \"val\": 273.0}, {\"col\": 0, \"idx\": \"HAGESTEIN\", \"val\": 194.0}, {\"col\": 0, \"idx\": \"NOORDELOOS\", \"val\": 214.0}, {\"col\": 0, \"idx\": \"HEERDE\", \"val\": 1828.0}, {\"col\": 0, \"idx\": \"HETEREN\", \"val\": 955.0}, {\"col\": 0, \"idx\": \"BELFELD\", \"val\": 476.0}, {\"col\": 0, \"idx\": \"WINSCHOTEN\", \"val\": 2190.0}, {\"col\": 0, \"idx\": \"BLESKENSGRAAF EN HOFWEGEN\", \"val\": 264.0}, {\"col\": 0, \"idx\": \"GOUDRIAAN\", \"val\": 117.0}, {\"col\": 0, \"idx\": \"SUSTEREN\", \"val\": 1163.0}, {\"col\": 0, \"idx\": \"POSTERHOLT\", \"val\": 392.0}, {\"col\": 0, \"idx\": \"RIETHOVEN\", \"val\": 358.0}, {\"col\": 0, \"idx\": \"WONSERADEEL\", \"val\": 1372.0}, {\"col\": 0, \"idx\": \"NUNSPEET\", \"val\": 2993.0}, {\"col\": 0, \"idx\": \"NUTH\", \"val\": 1659.0}, {\"col\": 0, \"idx\": \"SCHAGEN\", \"val\": 3233.0}, {\"col\": 0, \"idx\": \"GEERTRUIDENBERG\", \"val\": 839.0}, {\"col\": 0, \"idx\": \"ALPHEN AAN DEN RIJN ZH\", \"val\": 8790.0}, {\"col\": 0, \"idx\": \"OISTERWIJK\", \"val\": 2600.0}, {\"col\": 0, \"idx\": \"SIMPELVELD\", \"val\": 1090.0}]}, {\"name\": \"stats\", \"source\": \"table\", \"transform\": [{\"keys\": [\"data.idx\"], \"type\": \"facet\"}, {\"type\": \"stats\", \"value\": \"data.val\"}]}], \"height\": 500, \"legends\": [], \"marks\": [{\"from\": {\"data\": \"table\", \"transform\": [{\"keys\": [\"data.col\"], \"type\": \"facet\"}, {\"height\": \"data.val\", \"point\": \"data.idx\", \"type\": \"stack\"}]}, \"marks\": [{\"properties\": {\"enter\": {\"fill\": {\"field\": \"data.col\", \"scale\": \"color\"}, \"width\": {\"band\": true, \"offset\": -1, \"scale\": \"x\"}, \"x\": {\"field\": \"data.idx\", \"scale\": \"x\"}, \"y\": {\"field\": \"y\", \"scale\": \"y\"}, \"y2\": {\"field\": \"y2\", \"scale\": \"y\"}}}, \"type\": \"rect\"}], \"type\": \"group\"}], \"padding\": \"auto\", \"scales\": [{\"domain\": {\"data\": \"table\", \"field\": \"data.idx\"}, \"name\": \"x\", \"range\": \"width\", \"type\": \"ordinal\", \"zero\": false}, {\"domain\": {\"data\": \"stats\", \"field\": \"sum\"}, \"name\": \"y\", \"nice\": true, \"range\": \"height\"}, {\"domain\": {\"data\": \"table\", \"field\": \"data.col\"}, \"name\": \"color\", \"range\": \"category20\", \"type\": \"ordinal\"}], \"width\": 960}, function(chart) {\n",
        "         chart({el: \"#vis45f864a3667741a4a4060f04b0316c40\"}).update();\n",
        "       });\n",
        "     };\n",
        "     _do_plot();\n",
        "   })();\n",
        "</script>\n",
        "<style>.vega canvas {width: 100%;}</style>\n",
        "        "
       ],
       "metadata": {},
       "output_type": "display_data",
       "text": [
        "<IPython.core.display.HTML at 0xaf8d7b8c>"
       ]
      }
     ],
     "prompt_number": 29
    },
    {
     "cell_type": "markdown",
     "metadata": {},
     "source": [
      "The same data on Pie chart"
     ]
    },
    {
     "cell_type": "code",
     "collapsed": false,
     "input": [
      "pie = vincent.Pie(thisDF)\n",
      "pie.colors(brew='Set3')\n",
      "pie.legend('Locations')"
     ],
     "language": "python",
     "metadata": {},
     "outputs": [
      {
       "html": [
        "<div id=\"vis52387de23ed54fdeb110c9f8b54db32c\"></div>\n",
        "<script>\n",
        "   ( function() {\n",
        "     var _do_plot = function() {\n",
        "       if (typeof vg === 'undefined') {\n",
        "         window.addEventListener('vincent_libs_loaded', _do_plot)\n",
        "         return;\n",
        "       }\n",
        "       vg.parse.spec({\"axes\": [], \"data\": [{\"name\": \"table\", \"values\": [{\"col\": 0, \"idx\": \"OLDEHOVE\", \"val\": 273.0}, {\"col\": 0, \"idx\": \"HAGESTEIN\", \"val\": 194.0}, {\"col\": 0, \"idx\": \"NOORDELOOS\", \"val\": 214.0}, {\"col\": 0, \"idx\": \"HEERDE\", \"val\": 1828.0}, {\"col\": 0, \"idx\": \"HETEREN\", \"val\": 955.0}, {\"col\": 0, \"idx\": \"BELFELD\", \"val\": 476.0}, {\"col\": 0, \"idx\": \"WINSCHOTEN\", \"val\": 2190.0}, {\"col\": 0, \"idx\": \"BLESKENSGRAAF EN HOFWEGEN\", \"val\": 264.0}, {\"col\": 0, \"idx\": \"GOUDRIAAN\", \"val\": 117.0}, {\"col\": 0, \"idx\": \"SUSTEREN\", \"val\": 1163.0}, {\"col\": 0, \"idx\": \"POSTERHOLT\", \"val\": 392.0}, {\"col\": 0, \"idx\": \"RIETHOVEN\", \"val\": 358.0}, {\"col\": 0, \"idx\": \"WONSERADEEL\", \"val\": 1372.0}, {\"col\": 0, \"idx\": \"NUNSPEET\", \"val\": 2993.0}, {\"col\": 0, \"idx\": \"NUTH\", \"val\": 1659.0}, {\"col\": 0, \"idx\": \"SCHAGEN\", \"val\": 3233.0}, {\"col\": 0, \"idx\": \"GEERTRUIDENBERG\", \"val\": 839.0}, {\"col\": 0, \"idx\": \"ALPHEN AAN DEN RIJN ZH\", \"val\": 8790.0}, {\"col\": 0, \"idx\": \"OISTERWIJK\", \"val\": 2600.0}, {\"col\": 0, \"idx\": \"SIMPELVELD\", \"val\": 1090.0}]}], \"height\": 500, \"legends\": [{\"fill\": \"color\", \"offset\": 0, \"properties\": {}, \"title\": \"Locations\"}], \"marks\": [{\"from\": {\"data\": \"table\", \"transform\": [{\"type\": \"pie\", \"value\": \"data.val\"}]}, \"properties\": {\"enter\": {\"endAngle\": {\"field\": \"endAngle\"}, \"fill\": {\"field\": \"data.idx\", \"scale\": \"color\"}, \"innerRadius\": {\"value\": 0}, \"outerRadius\": {\"value\": 250}, \"startAngle\": {\"field\": \"startAngle\"}, \"stroke\": {\"value\": \"white\"}, \"x\": {\"group\": \"width\", \"mult\": 0.5}, \"y\": {\"group\": \"height\", \"mult\": 0.5}}}, \"type\": \"arc\"}], \"padding\": \"auto\", \"scales\": [{\"domain\": {\"data\": \"table\", \"field\": \"data.idx\"}, \"name\": \"color\", \"range\": [\"#8dd3c7\", \"#ffffb3\", \"#bebada\", \"#fb8072\", \"#80b1d3\", \"#fdb462\", \"#b3de69\", \"#fccde5\", \"#d9d9d9\", \"#bc80bd\", \"#ccebc5\", \"#ffed6f\"], \"type\": \"ordinal\"}], \"width\": 960}, function(chart) {\n",
        "         chart({el: \"#vis52387de23ed54fdeb110c9f8b54db32c\"}).update();\n",
        "       });\n",
        "     };\n",
        "     _do_plot();\n",
        "   })();\n",
        "</script>\n",
        "<style>.vega canvas {width: 100%;}</style>\n",
        "        "
       ],
       "metadata": {},
       "output_type": "pyout",
       "prompt_number": 30,
       "text": [
        "<vincent.charts.Pie at 0xaf76f6ec>"
       ]
      }
     ],
     "prompt_number": 30
    },
    {
     "cell_type": "markdown",
     "metadata": {},
     "source": [
      "Create final dataset with amsterdam codes, values and colors"
     ]
    },
    {
     "cell_type": "code",
     "collapsed": false,
     "input": [
      "print \"Colors for visualization of locations on map\"\n",
      "for value in list_data:\n",
      "    # 42.0, 75, 221, 321, 2331.0\n",
      "    for i in range(len(colormap)):\n",
      "        min, max = colormap[i-1], colormap[i]\n",
      "\n",
      "        if value >= min:\n",
      "            if value < max:\n",
      "                print str(value) + ' ' + colors[i]"
     ],
     "language": "python",
     "metadata": {},
     "outputs": [
      {
       "output_type": "stream",
       "stream": "stdout",
       "text": [
        "Colors for visualization of locations on map\n",
        "273.0 green\n",
        "194.0 green\n",
        "214.0 green\n",
        "1828.0 brown\n",
        "955.0 orange\n",
        "476.0 orange\n",
        "2190.0 purple\n",
        "264.0 green\n",
        "117.0 green\n",
        "1163.0 brown\n",
        "392.0 orange\n",
        "358.0 orange\n",
        "1372.0 brown\n",
        "2993.0 purple\n",
        "1659.0 brown\n",
        "3233.0 purple\n",
        "839.0 orange\n",
        "2600.0 purple\n",
        "1090.0 brown\n"
       ]
      }
     ],
     "prompt_number": 31
    },
    {
     "cell_type": "markdown",
     "metadata": {},
     "source": [
      "To do: visualize dataset on map of Netherlands"
     ]
    }
   ],
   "metadata": {}
  }
 ]
}